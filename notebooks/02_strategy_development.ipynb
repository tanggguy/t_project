{
 "cells": [
  {
   "cell_type": "markdown",
   "id": "36fb98d4",
   "metadata": {},
   "source": [
    "on ferat ceci par la suite"
   ]
  }
 ],
 "metadata": {
  "language_info": {
   "name": "python"
  }
 },
 "nbformat": 4,
 "nbformat_minor": 5
}
